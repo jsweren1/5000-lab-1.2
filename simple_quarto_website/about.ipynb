{
  "cells": [
    {
      "cell_type": "markdown",
      "metadata": {},
      "source": [
        "---\n",
        "title: About\n",
        "jupyter: python3\n",
        "format:\n",
        "    html:\n",
        "        embed-resources: true\n",
        "---"
      ]
    },
    {
      "cell_type": "markdown",
      "metadata": {},
      "source": [
        "About this site\n",
        "\n",
        "# Chapter 1\n",
        "Lorem ipsum dolor sit amet, consectetur adipiscing elit. Cras finibus ac erat maximus rutrum. Suspendisse in tellus tempor, efficitur urna non, elementum justo. Nulla turpis odio, mollis quis tristique quis, scelerisque non arcu. Nullam vitae lectus auctor, efficitur ex vitae, aliquam nunc. Aenean augue nibh, cursus non facilisis ut, pulvinar ac metus. Nullam varius vestibulum malesuada. Mauris ornare est eu tortor malesuada volutpat. Duis vitae tincidunt orci. Nunc eget ante ornare, mollis orci ut, rhoncus tellus. Ut quis tortor pharetra, ultrices massa et, rhoncus lorem. Fusce aliquam lacus quis purus mollis, ac aliquet ante dignissim. Integer pretium feugiat neque, maximus imperdiet nisl condimentum quis. Nulla porta est neque, at finibus nulla scelerisque in. Vestibulum nec risus diam. Donec commodo turpis vehicula quam ultricies, a tempor ex tempus. Aliquam erat volutpat.\n",
        "\n",
        "## Chapter 1.1\n",
        "Morbi in rutrum tortor. Vestibulum sollicitudin finibus finibus. Curabitur eleifend elit velit, vitae pellentesque lectus tincidunt at. Cras nisl sem, porta eu tortor finibus, rutrum auctor diam. Nulla ut ex erat. Duis eu feugiat lacus. Curabitur vel vulputate leo.\n",
        "\n",
        "### Chapter 1.1.1"
      ]
    },
    {
      "cell_type": "code",
      "execution_count": null,
      "metadata": {},
      "outputs": [],
      "source": [
        "import numpy as np\n",
        "import matplotlib.pyplot as plt\n",
        "x = [1,2,3,4,5,6,7,8,9,10]\n",
        "y = [1,4,9,16,25,36,49,64,81,100]\n",
        "plt.scatter(x,y, color='#68A2B9')\n",
        "plt.xlabel(\"X\")\n",
        "plt.ylabel(\"X-squared\")\n",
        "plt.show()"
      ]
    }
  ],
  "metadata": {
    "kernelspec": {
      "display_name": "Python 3 (ipykernel)",
      "language": "python",
      "name": "python3"
    }
  },
  "nbformat": 4,
  "nbformat_minor": 4
}
